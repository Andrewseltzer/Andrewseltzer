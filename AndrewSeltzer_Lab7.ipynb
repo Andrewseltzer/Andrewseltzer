{
  "nbformat": 4,
  "nbformat_minor": 0,
  "metadata": {
    "colab": {
      "provenance": [],
      "authorship_tag": "ABX9TyOepIm02Khay6Qf0Ac6c2MX",
      "include_colab_link": true
    },
    "kernelspec": {
      "name": "python3",
      "display_name": "Python 3"
    },
    "language_info": {
      "name": "python"
    }
  },
  "cells": [
    {
      "cell_type": "markdown",
      "metadata": {
        "id": "view-in-github",
        "colab_type": "text"
      },
      "source": [
        "<a href=\"https://colab.research.google.com/github/Andrewseltzer/StatisticsHomework/blob/main/AndrewSeltzer_Lab7.ipynb\" target=\"_parent\"><img src=\"https://colab.research.google.com/assets/colab-badge.svg\" alt=\"Open In Colab\"/></a>"
      ]
    },
    {
      "cell_type": "markdown",
      "source": [
        "Distance in megaparsecs (Mpc) on the x-axis, and Velocity in kilometers per second (km/s) on the y-axis"
      ],
      "metadata": {
        "id": "DQH7kl87YQ0n"
      }
    },
    {
      "cell_type": "code",
      "execution_count": null,
      "metadata": {
        "id": "qo4orOh1QzrR"
      },
      "outputs": [],
      "source": [
        "import numpy as np\n",
        "import matplotlib.pyplot as plt"
      ]
    },
    {
      "cell_type": "markdown",
      "source": [
        "need this code to start the function\n"
      ],
      "metadata": {
        "id": "7F85TBDN-auI"
      }
    },
    {
      "cell_type": "code",
      "source": [
        "X = np.array([19,65,66,80,97,113,175,270,310,350,350,650,680])    \n",
        "Y = np.array([1150,3800,5000,4800,5400,6700,10300,15400,19500,23200,21600,39400,41000])  "
      ],
      "metadata": {
        "id": "eDdfNy1YQ5VO"
      },
      "execution_count": null,
      "outputs": []
    },
    {
      "cell_type": "markdown",
      "source": [
        "this is the x and y array values "
      ],
      "metadata": {
        "id": "1kqDhIYX-hTF"
      }
    },
    {
      "cell_type": "code",
      "source": [
        "plt.plot(X,Y,'g.')"
      ],
      "metadata": {
        "id": "bwEzkndjRAw-",
        "colab": {
          "base_uri": "https://localhost:8080/",
          "height": 283
        },
        "outputId": "a1d3adc5-46e6-47aa-a34e-2c8d739b3c54"
      },
      "execution_count": null,
      "outputs": [
        {
          "output_type": "execute_result",
          "data": {
            "text/plain": [
              "[<matplotlib.lines.Line2D at 0x7f90980f9150>]"
            ]
          },
          "metadata": {},
          "execution_count": 3
        },
        {
          "output_type": "display_data",
          "data": {
            "text/plain": [
              "<Figure size 432x288 with 1 Axes>"
            ],
            "image/png": "[encoded data removed]"
          },
          "metadata": {
            "needs_background": "light"
          }
        }
      ]
    },
    {
      "cell_type": "markdown",
      "source": [
        "Putting the period in the function makes it a dot graph "
      ],
      "metadata": {
        "id": "8_Smb47B-mlH"
      }
    },
    {
      "cell_type": "code",
      "source": [
        "m_guess = 0\n",
        "b_guess = 0 "
      ],
      "metadata": {
        "id": "8pUDOa2bRYWY"
      },
      "execution_count": null,
      "outputs": []
    },
    {
      "cell_type": "markdown",
      "source": [
        "Making the M and b guess values so you can do y=mx+b"
      ],
      "metadata": {
        "id": "wv8p9tAU-vGb"
      }
    },
    {
      "cell_type": "markdown",
      "source": [
        "$y=mx+b$"
      ],
      "metadata": {
        "id": "9pkUPkbzSwtL"
      }
    },
    {
      "cell_type": "code",
      "source": [
        "m_guess * X + b_guess"
      ],
      "metadata": {
        "colab": {
          "base_uri": "https://localhost:8080/"
        },
        "id": "ThmiCA2ISHIZ",
        "outputId": "b426261e-5b02-4828-b14b-04aaed3bb656"
      },
      "execution_count": null,
      "outputs": [
        {
          "output_type": "execute_result",
          "data": {
            "text/plain": [
              "array([0, 0, 0, 0, 0, 0, 0, 0, 0, 0, 0, 0, 0])"
            ]
          },
          "metadata": {},
          "execution_count": 5
        }
      ]
    },
    {
      "cell_type": "code",
      "source": [
        "y_guess = m_guess * X + b_guess"
      ],
      "metadata": {
        "id": "ndLRAbo0SMlI"
      },
      "execution_count": null,
      "outputs": []
    },
    {
      "cell_type": "code",
      "source": [
        "y_guess - Y"
      ],
      "metadata": {
        "id": "tcznOFlBS_r6",
        "outputId": "df1935b5-44cf-44e7-a798-d60dc4b16647",
        "colab": {
          "base_uri": "https://localhost:8080/"
        }
      },
      "execution_count": null,
      "outputs": [
        {
          "output_type": "execute_result",
          "data": {
            "text/plain": [
              "array([ -1150,  -3800,  -5000,  -4800,  -5400,  -6700, -10300, -15400,\n",
              "       -19500, -23200, -21600, -39400, -41000])"
            ]
          },
          "metadata": {},
          "execution_count": 7
        }
      ]
    },
    {
      "cell_type": "code",
      "source": [
        "np.sum((y_guess - Y)**2)"
      ],
      "metadata": {
        "id": "tCDXN_yNTlHb",
        "colab": {
          "base_uri": "https://localhost:8080/"
        },
        "outputId": "ff14966c-3579-44c9-8b7e-ba34c765ba4a"
      },
      "execution_count": null,
      "outputs": [
        {
          "output_type": "execute_result",
          "data": {
            "text/plain": [
              "5099512500"
            ]
          },
          "metadata": {},
          "execution_count": 8
        }
      ]
    },
    {
      "cell_type": "code",
      "source": [
        "loss = np.sum((y_guess - Y)**2)"
      ],
      "metadata": {
        "id": "KqzZP0KBUQfr"
      },
      "execution_count": null,
      "outputs": []
    },
    {
      "cell_type": "code",
      "source": [
        "best_loss_so_far = 1000000000000\n",
        "m_best = 0 \n",
        "b_best = 0 \n",
        "for m_guess in np.linspace(-100,100,100):\n",
        "    for b_guess in np.linspace(-100,100,100):\n",
        "        \n",
        "        y_guess = m_guess * X + b_guess\n",
        "\n",
        "        loss = np.sum((y_guess - Y)**2)\n",
        "\n",
        "        if loss < best_loss_so_far:\n",
        "            m_best = m_guess\n",
        "            b_best = b_guess\n",
        "            best_loss_so_far = loss\n",
        "\n",
        "print(\"Found best fit:\")\n",
        "print(m_best,b_best,loss)"
      ],
      "metadata": {
        "colab": {
          "base_uri": "https://localhost:8080/"
        },
        "id": "dxa0jobTWMg8",
        "outputId": "76090fd4-3f3a-483e-89f4-6306ba814747"
      },
      "execution_count": null,
      "outputs": [
        {
          "output_type": "stream",
          "name": "stdout",
          "text": [
            "Found best fit:\n",
            "61.616161616161634 -100.0 2107292500.0\n"
          ]
        }
      ]
    },
    {
      "cell_type": "markdown",
      "source": [
        "This function finds the best fit"
      ],
      "metadata": {
        "id": "Y2BU7mB6-5Op"
      }
    },
    {
      "cell_type": "code",
      "source": [
        "m_best"
      ],
      "metadata": {
        "colab": {
          "base_uri": "https://localhost:8080/"
        },
        "id": "0szNdbHbX-L5",
        "outputId": "f787b788-a38f-472b-fc87-f1ad32f1830b"
      },
      "execution_count": null,
      "outputs": [
        {
          "output_type": "execute_result",
          "data": {
            "text/plain": [
              "61.616161616161634"
            ]
          },
          "metadata": {},
          "execution_count": 11
        }
      ]
    },
    {
      "cell_type": "code",
      "source": [
        "H = m_best"
      ],
      "metadata": {
        "id": "Fvl_hEd7X-SG"
      },
      "execution_count": null,
      "outputs": []
    },
    {
      "cell_type": "code",
      "source": [
        "1/H"
      ],
      "metadata": {
        "colab": {
          "base_uri": "https://localhost:8080/"
        },
        "id": "IszRv-I3X-WM",
        "outputId": "cf47b681-1752-4008-8eda-9eff187b9f85"
      },
      "execution_count": null,
      "outputs": [
        {
          "output_type": "execute_result",
          "data": {
            "text/plain": [
              "0.016229508196721306"
            ]
          },
          "metadata": {},
          "execution_count": 13
        }
      ]
    },
    {
      "cell_type": "markdown",
      "source": [
        "If the universe has been expanding since its beginning at a constant speed, the universe's age would simply be 1/Ho.\n",
        "Find the inverse of your value of Ho.\n",
        "Multiply the inverse by $3.09 \\times 10^{19}$ km/Mpc to cancel the distance units.\n",
        "Since you now have the age of the Universe in seconds, divide this number by the number of seconds in a year: $3.16 \\times 10^{7}$ sec/yr."
      ],
      "metadata": {
        "id": "s3pEJ-jdZLL5"
      }
    },
    {
      "cell_type": "markdown",
      "source": [
        "$3.09 \\times 10^{19}$ km/Mpc"
      ],
      "metadata": {
        "id": "cZQrI_NmZVt3"
      }
    },
    {
      "cell_type": "markdown",
      "source": [
        "$3.16 \\times 10^{7}$ sec/year"
      ],
      "metadata": {
        "id": "tgrFezLvZqxl"
      }
    },
    {
      "cell_type": "code",
      "source": [
        "(1/H) * (3.09*10**19)"
      ],
      "metadata": {
        "colab": {
          "base_uri": "https://localhost:8080/"
        },
        "id": "FowmKTJNZg-4",
        "outputId": "17d1f82b-9241-445e-c22c-70b15d809115"
      },
      "execution_count": null,
      "outputs": [
        {
          "output_type": "execute_result",
          "data": {
            "text/plain": [
              "5.014918032786884e+17"
            ]
          },
          "metadata": {},
          "execution_count": 14
        }
      ]
    },
    {
      "cell_type": "code",
      "source": [
        "(1/H) * (3.09*10**19)  / (3.16*10**7)"
      ],
      "metadata": {
        "colab": {
          "base_uri": "https://localhost:8080/"
        },
        "id": "OiuFy4y6X-ZC",
        "outputId": "2c66ef6d-e9d3-49ad-b597-62e9ebc17ece"
      },
      "execution_count": null,
      "outputs": [
        {
          "output_type": "execute_result",
          "data": {
            "text/plain": [
              "15869993774.642038"
            ]
          },
          "metadata": {},
          "execution_count": 15
        }
      ]
    },
    {
      "cell_type": "code",
      "source": [
        " (1/H) * (3.09*10**19)  / (3.16*10**7) / (1000000000)"
      ],
      "metadata": {
        "colab": {
          "base_uri": "https://localhost:8080/"
        },
        "id": "uPN2VXHoaZ4u",
        "outputId": "8e2dd354-456c-4062-b2f0-bd3c16e02040"
      },
      "execution_count": null,
      "outputs": [
        {
          "output_type": "execute_result",
          "data": {
            "text/plain": [
              "15.869993774642039"
            ]
          },
          "metadata": {},
          "execution_count": 16
        }
      ]
    },
    {
      "cell_type": "markdown",
      "source": [
        "#Data Collection Spreadsheet"
      ],
      "metadata": {
        "id": "itQZbnWzC1ZP"
      }
    },
    {
      "cell_type": "markdown",
      "source": [
        "https://docs.google.com/spreadsheets/d/1lQFXhUEEPQulgi_19VvEwH7Qw_N-2rPNRJBHO7gfPwk/edit?usp=sharing"
      ],
      "metadata": {
        "id": "lnpsn0AhCwFn"
      }
    },
    {
      "cell_type": "markdown",
      "source": [
        "http://depts.washington.edu/astroed/HubbleLaw/galaxies.html"
      ],
      "metadata": {
        "id": "ZbQlWaUlC0JZ"
      }
    },
    {
      "cell_type": "markdown",
      "source": [
        "https://docs.google.com/spreadsheets/d/1B_HW2uVGQv9W7b6vVZDSkOPLtmfodHrX4G0qtQbIenk/edit?usp=sharing"
      ],
      "metadata": {
        "id": "etCPqEd8UHS2"
      }
    },
    {
      "cell_type": "code",
      "execution_count": null,
      "metadata": {
        "id": "q-tGyKkht2Au"
      },
      "outputs": [],
      "source": [
        "import pandas as pd\n",
        "import numpy as np\n",
        "import matplotlib.pyplot as plt\n",
        "def get_database(url,sheet_name):\n",
        "    url_head = \"https://docs.google.com/spreadsheets/d/\"\n",
        "    url_foot = \"/gviz/tq?tqx=out:csv&sheet=\"\n",
        "    url_body = url.split('/')[5]\n",
        "    # sheet_name = \"1\"\n",
        "    url_csv = url_head + url_body + url_foot + sheet_name\n",
        "    df = pd.read_csv(url_csv, sep=',', skiprows=0)\n",
        "    return df"
      ]
    },
    {
      "cell_type": "markdown",
      "source": [
        "THis finds the url header, footer, and the body and making it one sheet name"
      ],
      "metadata": {
        "id": "ptgnodq-_BJt"
      }
    },
    {
      "cell_type": "code",
      "source": [
        "url = 'https://docs.google.com/spreadsheets/d/1B_HW2uVGQv9W7b6vVZDSkOPLtmfodHrX4G0qtQbIenk/edit?usp=sharing'"
      ],
      "metadata": {
        "id": "fc8aichguBRZ"
      },
      "execution_count": null,
      "outputs": []
    },
    {
      "cell_type": "markdown",
      "source": [
        "this is the url for the document spreadsheet"
      ],
      "metadata": {
        "id": "2S7TUMze_KsC"
      }
    },
    {
      "cell_type": "code",
      "source": [
        "sheet_name = 'Distance'"
      ],
      "metadata": {
        "id": "TV8oWyhYna0s"
      },
      "execution_count": null,
      "outputs": []
    },
    {
      "cell_type": "markdown",
      "source": [
        "sheet name "
      ],
      "metadata": {
        "id": "qf1390ww_OlT"
      }
    },
    {
      "cell_type": "code",
      "source": [
        "Distance_data = get_database(url,sheet_name)"
      ],
      "metadata": {
        "id": "sFe18hEYuC9H"
      },
      "execution_count": null,
      "outputs": []
    },
    {
      "cell_type": "code",
      "source": [
        "Distance_data = np.array(Distance_data)[:,1:]"
      ],
      "metadata": {
        "id": "P4vYCpPeuHpX"
      },
      "execution_count": null,
      "outputs": []
    },
    {
      "cell_type": "code",
      "source": [
        "Distance_data.shape"
      ],
      "metadata": {
        "colab": {
          "base_uri": "https://localhost:8080/"
        },
        "id": "XEfjmPJInT2e",
        "outputId": "7ca133e5-5968-4161-8351-d94252f445de"
      },
      "execution_count": null,
      "outputs": [
        {
          "output_type": "execute_result",
          "data": {
            "text/plain": [
              "(18, 51)"
            ]
          },
          "metadata": {},
          "execution_count": 22
        }
      ]
    },
    {
      "cell_type": "code",
      "source": [
        "Distance_data = np.mean(Distance_data,1)"
      ],
      "metadata": {
        "id": "fMiWBHdXoS2y"
      },
      "execution_count": null,
      "outputs": []
    },
    {
      "cell_type": "code",
      "source": [
        "Distance_data"
      ],
      "metadata": {
        "colab": {
          "base_uri": "https://localhost:8080/"
        },
        "id": "NRiDTzJYoS5h",
        "outputId": "2ffae197-b9b8-4039-bc8c-f948ed6d675c"
      },
      "execution_count": null,
      "outputs": [
        {
          "output_type": "execute_result",
          "data": {
            "text/plain": [
              "array([29.298039215686295, 32.78235294117648, 32.907843137254886,\n",
              "       29.880392156862737, 12.996078431372545, 10.0921568627451,\n",
              "       30.384313725490202, 21.439215686274512, 24.898039215686275,\n",
              "       16.299999999999997, 13.092156862745096, 43.809803921568616,\n",
              "       30.713725490196072, 56.27647058823528, 34.37058823529411,\n",
              "       40.16862745098039, 25.029411764705884, 43.97921568627452],\n",
              "      dtype=object)"
            ]
          },
          "metadata": {},
          "execution_count": 24
        }
      ]
    },
    {
      "cell_type": "code",
      "source": [],
      "metadata": {
        "id": "d2-6PRVWrXo_"
      },
      "execution_count": null,
      "outputs": []
    },
    {
      "cell_type": "code",
      "source": [
        "sheet_name = 'Velocity'"
      ],
      "metadata": {
        "id": "E4Bf5kM6nrQP"
      },
      "execution_count": null,
      "outputs": []
    },
    {
      "cell_type": "code",
      "source": [
        "Velocity_data = get_database(url,sheet_name)"
      ],
      "metadata": {
        "id": "nmFU9NasnrQP"
      },
      "execution_count": null,
      "outputs": []
    },
    {
      "cell_type": "code",
      "source": [
        "Velocity_data"
      ],
      "metadata": {
        "id": "FiVFgEklnrQP",
        "colab": {
          "base_uri": "https://localhost:8080/",
          "height": 725
        },
        "outputId": "478b60e4-4cfa-487e-c586-d798a8ae3238"
      },
      "execution_count": null,
      "outputs": [
        {
          "output_type": "execute_result",
          "data": {
            "text/plain": [
              "    Velocity  Buonocore  Derrick Thompson  Evan R  Sam Lai   Ethan  sepanek  \\\n",
              "0   NGC 1357          0                 0       0         0      0        0   \n",
              "1   NGC 1832       1934              1970    1934      1865   2043     2007   \n",
              "2   NGC 2276       2359              2327    2327      3319   2395     2395   \n",
              "3   NGC 2775       1262              1262    1262      1367   1298     1367   \n",
              "4   NGC 2903        448               485     448      1618    448      590   \n",
              "5   NGC 3034         23               -46     -14       590     23      128   \n",
              "6   NGC 3147       2642              2610    2642      3707   2642     2715   \n",
              "7   NGC 3227       2642              2043    2007      1934   2007     2043   \n",
              "8   NGC 3368       1828              1865    1902      1865   1902     1970   \n",
              "9   NGC 3623       1687              1687    1723      1902   1723     1792   \n",
              "10  NGC 3627        626               590     663      1723    663      731   \n",
              "11  NGC 4775       1509              1440    1440      1440   1477     1545   \n",
              "12  NGC 5248        978              1015    1051       837    978     1088   \n",
              "13  NGC 5548       4983              5088    5088      5193   5124     5161   \n",
              "14  NGC 6181       1088              2075    2043      2148   2075     2217   \n",
              "15  NGC 6217       1335              1193    1157      1440   1193     1298   \n",
              "16  NGC 6643       1335              1367    1298      1477   1335     1440   \n",
              "17  NGC 6764       2148              2148    2148      2112   2148     2185   \n",
              "\n",
              "    Ahmed  jess p  Sofia Vasquez  ...  Lexi W.  Kevin C.  Cody H  Sergio R  \\\n",
              "0       0       0              0  ...   6603.6       0.0       0         0   \n",
              "1    1970    2148           1970  ...   6607.5    1970.0    1970      1970   \n",
              "2    2359    2148           2395  ...   6616.8    6615.2    2395      2290   \n",
              "3    1298    1298           1335  ...   6616.8    1298.0    1262      1262   \n",
              "4     521     485            485  ...   6574.2     485.0     485       485   \n",
              "5      23     485             23  ...   6563.3      23.0      59        59   \n",
              "6    2642    2679           2642  ...   6621.4    2642.0    2642      2610   \n",
              "7    2007    2043           1970  ...   6605.4    2007.0    1970      2007   \n",
              "8    1934    1828           1902  ...   6610.6    1865.0    1902      1902   \n",
              "9    1760    1650           1723  ...   6580.4    1723.0    1723      1687   \n",
              "10    663     663            663  ...   6602.8     663.0     626       663   \n",
              "11   1477    1582           1477  ...   6610.6    1440.0    1477      1477   \n",
              "12   1015    1051           1051  ...   6614.4    1015.0     946       978   \n",
              "13   5088    5088           5088  ...   6596.6    5124.0    5088      5051   \n",
              "14   2112    2112           2112  ...   6576.6    2112.0    2112      2075   \n",
              "15   1225    1157           1193  ...   6576.5    1157.0    1262      1193   \n",
              "16   1367    1367           1335  ...   6602.0    1335.0    1335      1335   \n",
              "17   2148    2148           2148  ...   2148.0    2075.0    2112      2148   \n",
              "\n",
              "    Chris D  Jonathan M.  Christian M.  Natalia A.  Nick S  Iris D.  \n",
              "0         0            0             0           0       0        0  \n",
              "1      1865         2043          2075        2007    2043     2043  \n",
              "2      2327         2395          2075        2432    2359     2395  \n",
              "3      1262         1298          2432        1367    1298     1335  \n",
              "4       521          521          1298         521     485      553  \n",
              "5        59           59           485          96      23       96  \n",
              "6      2610         2715           -14        2642    2642     2715  \n",
              "7      2043         2075          2642        2075    2007     2043  \n",
              "8      1934         1934          2043        1934    1934     1970  \n",
              "9      1723         1632          1902        1687    1723     1760  \n",
              "10      626          731          1760         695     663      731  \n",
              "11     1477         1509           663        1545    1509     1545  \n",
              "12     1015          978          1440        1051    1015     1088  \n",
              "13     5019         5124          1015        5124    5051     5124  \n",
              "14     2148         2112          5051        2217    2112     2185  \n",
              "15     1262         1157          2075        1298    1193     1262  \n",
              "16     1367         1367          1298        1367    1367     1403  \n",
              "17     2075         2217          1403        2187    2148     2185  \n",
              "\n",
              "[18 rows x 43 columns]"
            ],
            "text/html": [
              "\n",
              "  <div id=\"df-363823e8-b5ac-4488-9a6c-b9d0ce8891b4\">\n",
              "    <div class=\"colab-df-container\">\n",
              "      <div>\n",
              "<style scoped>\n",
              "    .dataframe tbody tr th:only-of-type {\n",
              "        vertical-align: middle;\n",
              "    }\n",
              "\n",
              "    .dataframe tbody tr th {\n",
              "        vertical-align: top;\n",
              "    }\n",
              "\n",
              "    .dataframe thead th {\n",
              "        text-align: right;\n",
              "    }\n",
              "</style>\n",
              "<table border=\"1\" class=\"dataframe\">\n",
              "  <thead>\n",
              "    <tr style=\"text-align: right;\">\n",
              "      <th></th>\n",
              "      <th>Velocity</th>\n",
              "      <th>Buonocore</th>\n",
              "      <th>Derrick Thompson</th>\n",
              "      <th>Evan R</th>\n",
              "      <th>Sam Lai</th>\n",
              "      <th>Ethan</th>\n",
              "      <th>sepanek</th>\n",
              "      <th>Ahmed</th>\n",
              "      <th>jess p</th>\n",
              "      <th>Sofia Vasquez</th>\n",
              "      <th>...</th>\n",
              "      <th>Lexi W.</th>\n",
              "      <th>Kevin C.</th>\n",
              "      <th>Cody H</th>\n",
              "      <th>Sergio R</th>\n",
              "      <th>Chris D</th>\n",
              "      <th>Jonathan M.</th>\n",
              "      <th>Christian M.</th>\n",
              "      <th>Natalia A.</th>\n",
              "      <th>Nick S</th>\n",
              "      <th>Iris D.</th>\n",
              "    </tr>\n",
              "  </thead>\n",
              "  <tbody>\n",
              "    <tr>\n",
              "      <th>0</th>\n",
              "      <td>NGC 1357</td>\n",
              "      <td>0</td>\n",
              "      <td>0</td>\n",
              "      <td>0</td>\n",
              "      <td>0</td>\n",
              "      <td>0</td>\n",
              "      <td>0</td>\n",
              "      <td>0</td>\n",
              "      <td>0</td>\n",
              "      <td>0</td>\n",
              "      <td>...</td>\n",
              "      <td>6603.6</td>\n",
              "      <td>0.0</td>\n",
              "      <td>0</td>\n",
              "      <td>0</td>\n",
              "      <td>0</td>\n",
              "      <td>0</td>\n",
              "      <td>0</td>\n",
              "      <td>0</td>\n",
              "      <td>0</td>\n",
              "      <td>0</td>\n",
              "    </tr>\n",
              "    <tr>\n",
              "      <th>1</th>\n",
              "      <td>NGC 1832</td>\n",
              "      <td>1934</td>\n",
              "      <td>1970</td>\n",
              "      <td>1934</td>\n",
              "      <td>1865</td>\n",
              "      <td>2043</td>\n",
              "      <td>2007</td>\n",
              "      <td>1970</td>\n",
              "      <td>2148</td>\n",
              "      <td>1970</td>\n",
              "      <td>...</td>\n",
              "      <td>6607.5</td>\n",
              "      <td>1970.0</td>\n",
              "      <td>1970</td>\n",
              "      <td>1970</td>\n",
              "      <td>1865</td>\n",
              "      <td>2043</td>\n",
              "      <td>2075</td>\n",
              "      <td>2007</td>\n",
              "      <td>2043</td>\n",
              "      <td>2043</td>\n",
              "    </tr>\n",
              "    <tr>\n",
              "      <th>2</th>\n",
              "      <td>NGC 2276</td>\n",
              "      <td>2359</td>\n",
              "      <td>2327</td>\n",
              "      <td>2327</td>\n",
              "      <td>3319</td>\n",
              "      <td>2395</td>\n",
              "      <td>2395</td>\n",
              "      <td>2359</td>\n",
              "      <td>2148</td>\n",
              "      <td>2395</td>\n",
              "      <td>...</td>\n",
              "      <td>6616.8</td>\n",
              "      <td>6615.2</td>\n",
              "      <td>2395</td>\n",
              "      <td>2290</td>\n",
              "      <td>2327</td>\n",
              "      <td>2395</td>\n",
              "      <td>2075</td>\n",
              "      <td>2432</td>\n",
              "      <td>2359</td>\n",
              "      <td>2395</td>\n",
              "    </tr>\n",
              "    <tr>\n",
              "      <th>3</th>\n",
              "      <td>NGC 2775</td>\n",
              "      <td>1262</td>\n",
              "      <td>1262</td>\n",
              "      <td>1262</td>\n",
              "      <td>1367</td>\n",
              "      <td>1298</td>\n",
              "      <td>1367</td>\n",
              "      <td>1298</td>\n",
              "      <td>1298</td>\n",
              "      <td>1335</td>\n",
              "      <td>...</td>\n",
              "      <td>6616.8</td>\n",
              "      <td>1298.0</td>\n",
              "      <td>1262</td>\n",
              "      <td>1262</td>\n",
              "      <td>1262</td>\n",
              "      <td>1298</td>\n",
              "      <td>2432</td>\n",
              "      <td>1367</td>\n",
              "      <td>1298</td>\n",
              "      <td>1335</td>\n",
              "    </tr>\n",
              "    <tr>\n",
              "      <th>4</th>\n",
              "      <td>NGC 2903</td>\n",
              "      <td>448</td>\n",
              "      <td>485</td>\n",
              "      <td>448</td>\n",
              "      <td>1618</td>\n",
              "      <td>448</td>\n",
              "      <td>590</td>\n",
              "      <td>521</td>\n",
              "      <td>485</td>\n",
              "      <td>485</td>\n",
              "      <td>...</td>\n",
              "      <td>6574.2</td>\n",
              "      <td>485.0</td>\n",
              "      <td>485</td>\n",
              "      <td>485</td>\n",
              "      <td>521</td>\n",
              "      <td>521</td>\n",
              "      <td>1298</td>\n",
              "      <td>521</td>\n",
              "      <td>485</td>\n",
              "      <td>553</td>\n",
              "    </tr>\n",
              "    <tr>\n",
              "      <th>5</th>\n",
              "      <td>NGC 3034</td>\n",
              "      <td>23</td>\n",
              "      <td>-46</td>\n",
              "      <td>-14</td>\n",
              "      <td>590</td>\n",
              "      <td>23</td>\n",
              "      <td>128</td>\n",
              "      <td>23</td>\n",
              "      <td>485</td>\n",
              "      <td>23</td>\n",
              "      <td>...</td>\n",
              "      <td>6563.3</td>\n",
              "      <td>23.0</td>\n",
              "      <td>59</td>\n",
              "      <td>59</td>\n",
              "      <td>59</td>\n",
              "      <td>59</td>\n",
              "      <td>485</td>\n",
              "      <td>96</td>\n",
              "      <td>23</td>\n",
              "      <td>96</td>\n",
              "    </tr>\n",
              "    <tr>\n",
              "      <th>6</th>\n",
              "      <td>NGC 3147</td>\n",
              "      <td>2642</td>\n",
              "      <td>2610</td>\n",
              "      <td>2642</td>\n",
              "      <td>3707</td>\n",
              "      <td>2642</td>\n",
              "      <td>2715</td>\n",
              "      <td>2642</td>\n",
              "      <td>2679</td>\n",
              "      <td>2642</td>\n",
              "      <td>...</td>\n",
              "      <td>6621.4</td>\n",
              "      <td>2642.0</td>\n",
              "      <td>2642</td>\n",
              "      <td>2610</td>\n",
              "      <td>2610</td>\n",
              "      <td>2715</td>\n",
              "      <td>-14</td>\n",
              "      <td>2642</td>\n",
              "      <td>2642</td>\n",
              "      <td>2715</td>\n",
              "    </tr>\n",
              "    <tr>\n",
              "      <th>7</th>\n",
              "      <td>NGC 3227</td>\n",
              "      <td>2642</td>\n",
              "      <td>2043</td>\n",
              "      <td>2007</td>\n",
              "      <td>1934</td>\n",
              "      <td>2007</td>\n",
              "      <td>2043</td>\n",
              "      <td>2007</td>\n",
              "      <td>2043</td>\n",
              "      <td>1970</td>\n",
              "      <td>...</td>\n",
              "      <td>6605.4</td>\n",
              "      <td>2007.0</td>\n",
              "      <td>1970</td>\n",
              "      <td>2007</td>\n",
              "      <td>2043</td>\n",
              "      <td>2075</td>\n",
              "      <td>2642</td>\n",
              "      <td>2075</td>\n",
              "      <td>2007</td>\n",
              "      <td>2043</td>\n",
              "    </tr>\n",
              "    <tr>\n",
              "      <th>8</th>\n",
              "      <td>NGC 3368</td>\n",
              "      <td>1828</td>\n",
              "      <td>1865</td>\n",
              "      <td>1902</td>\n",
              "      <td>1865</td>\n",
              "      <td>1902</td>\n",
              "      <td>1970</td>\n",
              "      <td>1934</td>\n",
              "      <td>1828</td>\n",
              "      <td>1902</td>\n",
              "      <td>...</td>\n",
              "      <td>6610.6</td>\n",
              "      <td>1865.0</td>\n",
              "      <td>1902</td>\n",
              "      <td>1902</td>\n",
              "      <td>1934</td>\n",
              "      <td>1934</td>\n",
              "      <td>2043</td>\n",
              "      <td>1934</td>\n",
              "      <td>1934</td>\n",
              "      <td>1970</td>\n",
              "    </tr>\n",
              "    <tr>\n",
              "      <th>9</th>\n",
              "      <td>NGC 3623</td>\n",
              "      <td>1687</td>\n",
              "      <td>1687</td>\n",
              "      <td>1723</td>\n",
              "      <td>1902</td>\n",
              "      <td>1723</td>\n",
              "      <td>1792</td>\n",
              "      <td>1760</td>\n",
              "      <td>1650</td>\n",
              "      <td>1723</td>\n",
              "      <td>...</td>\n",
              "      <td>6580.4</td>\n",
              "      <td>1723.0</td>\n",
              "      <td>1723</td>\n",
              "      <td>1687</td>\n",
              "      <td>1723</td>\n",
              "      <td>1632</td>\n",
              "      <td>1902</td>\n",
              "      <td>1687</td>\n",
              "      <td>1723</td>\n",
              "      <td>1760</td>\n",
              "    </tr>\n",
              "    <tr>\n",
              "      <th>10</th>\n",
              "      <td>NGC 3627</td>\n",
              "      <td>626</td>\n",
              "      <td>590</td>\n",
              "      <td>663</td>\n",
              "      <td>1723</td>\n",
              "      <td>663</td>\n",
              "      <td>731</td>\n",
              "      <td>663</td>\n",
              "      <td>663</td>\n",
              "      <td>663</td>\n",
              "      <td>...</td>\n",
              "      <td>6602.8</td>\n",
              "      <td>663.0</td>\n",
              "      <td>626</td>\n",
              "      <td>663</td>\n",
              "      <td>626</td>\n",
              "      <td>731</td>\n",
              "      <td>1760</td>\n",
              "      <td>695</td>\n",
              "      <td>663</td>\n",
              "      <td>731</td>\n",
              "    </tr>\n",
              "    <tr>\n",
              "      <th>11</th>\n",
              "      <td>NGC 4775</td>\n",
              "      <td>1509</td>\n",
              "      <td>1440</td>\n",
              "      <td>1440</td>\n",
              "      <td>1440</td>\n",
              "      <td>1477</td>\n",
              "      <td>1545</td>\n",
              "      <td>1477</td>\n",
              "      <td>1582</td>\n",
              "      <td>1477</td>\n",
              "      <td>...</td>\n",
              "      <td>6610.6</td>\n",
              "      <td>1440.0</td>\n",
              "      <td>1477</td>\n",
              "      <td>1477</td>\n",
              "      <td>1477</td>\n",
              "      <td>1509</td>\n",
              "      <td>663</td>\n",
              "      <td>1545</td>\n",
              "      <td>1509</td>\n",
              "      <td>1545</td>\n",
              "    </tr>\n",
              "    <tr>\n",
              "      <th>12</th>\n",
              "      <td>NGC 5248</td>\n",
              "      <td>978</td>\n",
              "      <td>1015</td>\n",
              "      <td>1051</td>\n",
              "      <td>837</td>\n",
              "      <td>978</td>\n",
              "      <td>1088</td>\n",
              "      <td>1015</td>\n",
              "      <td>1051</td>\n",
              "      <td>1051</td>\n",
              "      <td>...</td>\n",
              "      <td>6614.4</td>\n",
              "      <td>1015.0</td>\n",
              "      <td>946</td>\n",
              "      <td>978</td>\n",
              "      <td>1015</td>\n",
              "      <td>978</td>\n",
              "      <td>1440</td>\n",
              "      <td>1051</td>\n",
              "      <td>1015</td>\n",
              "      <td>1088</td>\n",
              "    </tr>\n",
              "    <tr>\n",
              "      <th>13</th>\n",
              "      <td>NGC 5548</td>\n",
              "      <td>4983</td>\n",
              "      <td>5088</td>\n",
              "      <td>5088</td>\n",
              "      <td>5193</td>\n",
              "      <td>5124</td>\n",
              "      <td>5161</td>\n",
              "      <td>5088</td>\n",
              "      <td>5088</td>\n",
              "      <td>5088</td>\n",
              "      <td>...</td>\n",
              "      <td>6596.6</td>\n",
              "      <td>5124.0</td>\n",
              "      <td>5088</td>\n",
              "      <td>5051</td>\n",
              "      <td>5019</td>\n",
              "      <td>5124</td>\n",
              "      <td>1015</td>\n",
              "      <td>5124</td>\n",
              "      <td>5051</td>\n",
              "      <td>5124</td>\n",
              "    </tr>\n",
              "    <tr>\n",
              "      <th>14</th>\n",
              "      <td>NGC 6181</td>\n",
              "      <td>1088</td>\n",
              "      <td>2075</td>\n",
              "      <td>2043</td>\n",
              "      <td>2148</td>\n",
              "      <td>2075</td>\n",
              "      <td>2217</td>\n",
              "      <td>2112</td>\n",
              "      <td>2112</td>\n",
              "      <td>2112</td>\n",
              "      <td>...</td>\n",
              "      <td>6576.6</td>\n",
              "      <td>2112.0</td>\n",
              "      <td>2112</td>\n",
              "      <td>2075</td>\n",
              "      <td>2148</td>\n",
              "      <td>2112</td>\n",
              "      <td>5051</td>\n",
              "      <td>2217</td>\n",
              "      <td>2112</td>\n",
              "      <td>2185</td>\n",
              "    </tr>\n",
              "    <tr>\n",
              "      <th>15</th>\n",
              "      <td>NGC 6217</td>\n",
              "      <td>1335</td>\n",
              "      <td>1193</td>\n",
              "      <td>1157</td>\n",
              "      <td>1440</td>\n",
              "      <td>1193</td>\n",
              "      <td>1298</td>\n",
              "      <td>1225</td>\n",
              "      <td>1157</td>\n",
              "      <td>1193</td>\n",
              "      <td>...</td>\n",
              "      <td>6576.5</td>\n",
              "      <td>1157.0</td>\n",
              "      <td>1262</td>\n",
              "      <td>1193</td>\n",
              "      <td>1262</td>\n",
              "      <td>1157</td>\n",
              "      <td>2075</td>\n",
              "      <td>1298</td>\n",
              "      <td>1193</td>\n",
              "      <td>1262</td>\n",
              "    </tr>\n",
              "    <tr>\n",
              "      <th>16</th>\n",
              "      <td>NGC 6643</td>\n",
              "      <td>1335</td>\n",
              "      <td>1367</td>\n",
              "      <td>1298</td>\n",
              "      <td>1477</td>\n",
              "      <td>1335</td>\n",
              "      <td>1440</td>\n",
              "      <td>1367</td>\n",
              "      <td>1367</td>\n",
              "      <td>1335</td>\n",
              "      <td>...</td>\n",
              "      <td>6602.0</td>\n",
              "      <td>1335.0</td>\n",
              "      <td>1335</td>\n",
              "      <td>1335</td>\n",
              "      <td>1367</td>\n",
              "      <td>1367</td>\n",
              "      <td>1298</td>\n",
              "      <td>1367</td>\n",
              "      <td>1367</td>\n",
              "      <td>1403</td>\n",
              "    </tr>\n",
              "    <tr>\n",
              "      <th>17</th>\n",
              "      <td>NGC 6764</td>\n",
              "      <td>2148</td>\n",
              "      <td>2148</td>\n",
              "      <td>2148</td>\n",
              "      <td>2112</td>\n",
              "      <td>2148</td>\n",
              "      <td>2185</td>\n",
              "      <td>2148</td>\n",
              "      <td>2148</td>\n",
              "      <td>2148</td>\n",
              "      <td>...</td>\n",
              "      <td>2148.0</td>\n",
              "      <td>2075.0</td>\n",
              "      <td>2112</td>\n",
              "      <td>2148</td>\n",
              "      <td>2075</td>\n",
              "      <td>2217</td>\n",
              "      <td>1403</td>\n",
              "      <td>2187</td>\n",
              "      <td>2148</td>\n",
              "      <td>2185</td>\n",
              "    </tr>\n",
              "  </tbody>\n",
              "</table>\n",
              "<p>18 rows × 43 columns</p>\n",
              "</div>\n",
              "      <button class=\"colab-df-convert\" onclick=\"convertToInteractive('df-363823e8-b5ac-4488-9a6c-b9d0ce8891b4')\"\n",
              "              title=\"Convert this dataframe to an interactive table.\"\n",
              "              style=\"display:none;\">\n",
              "        \n",
              "  <svg xmlns=\"http://www.w3.org/2000/svg\" height=\"24px\"viewBox=\"0 0 24 24\"\n",
              "       width=\"24px\">\n",
              "    <path d=\"M0 0h24v24H0V0z\" fill=\"none\"/>\n",
              "    <path d=\"M18.56 5.44l.94 2.06.94-2.06 2.06-.94-2.06-.94-.94-2.06-.94 2.06-2.06.94zm-11 1L8.5 8.5l.94-2.06 2.06-.94-2.06-.94L8.5 2.5l-.94 2.06-2.06.94zm10 10l.94 2.06.94-2.06 2.06-.94-2.06-.94-.94-2.06-.94 2.06-2.06.94z\"/><path d=\"M17.41 7.96l-1.37-1.37c-.4-.4-.92-.59-1.43-.59-.52 0-1.04.2-1.43.59L10.3 9.45l-7.72 7.72c-.78.78-.78 2.05 0 2.83L4 21.41c.39.39.9.59 1.41.59.51 0 1.02-.2 1.41-.59l7.78-7.78 2.81-2.81c.8-.78.8-2.07 0-2.86zM5.41 20L4 18.59l7.72-7.72 1.47 1.35L5.41 20z\"/>\n",
              "  </svg>\n",
              "      </button>\n",
              "      \n",
              "  <style>\n",
              "    .colab-df-container {\n",
              "      display:flex;\n",
              "      flex-wrap:wrap;\n",
              "      gap: 12px;\n",
              "    }\n",
              "\n",
              "    .colab-df-convert {\n",
              "      background-color: #E8F0FE;\n",
              "      border: none;\n",
              "      border-radius: 50%;\n",
              "      cursor: pointer;\n",
              "      display: none;\n",
              "      fill: #1967D2;\n",
              "      height: 32px;\n",
              "      padding: 0 0 0 0;\n",
              "      width: 32px;\n",
              "    }\n",
              "\n",
              "    .colab-df-convert:hover {\n",
              "      background-color: #E2EBFA;\n",
              "      box-shadow: 0px 1px 2px rgba(60, 64, 67, 0.3), 0px 1px 3px 1px rgba(60, 64, 67, 0.15);\n",
              "      fill: #174EA6;\n",
              "    }\n",
              "\n",
              "    [theme=dark] .colab-df-convert {\n",
              "      background-color: #3B4455;\n",
              "      fill: #D2E3FC;\n",
              "    }\n",
              "\n",
              "    [theme=dark] .colab-df-convert:hover {\n",
              "      background-color: #434B5C;\n",
              "      box-shadow: 0px 1px 3px 1px rgba(0, 0, 0, 0.15);\n",
              "      filter: drop-shadow(0px 1px 2px rgba(0, 0, 0, 0.3));\n",
              "      fill: #FFFFFF;\n",
              "    }\n",
              "  </style>\n",
              "\n",
              "      <script>\n",
              "        const buttonEl =\n",
              "          document.querySelector('#df-363823e8-b5ac-4488-9a6c-b9d0ce8891b4 button.colab-df-convert');\n",
              "        buttonEl.style.display =\n",
              "          google.colab.kernel.accessAllowed ? 'block' : 'none';\n",
              "\n",
              "        async function convertToInteractive(key) {\n",
              "          const element = document.querySelector('#df-363823e8-b5ac-4488-9a6c-b9d0ce8891b4');\n",
              "          const dataTable =\n",
              "            await google.colab.kernel.invokeFunction('convertToInteractive',\n",
              "                                                     [key], {});\n",
              "          if (!dataTable) return;\n",
              "\n",
              "          const docLinkHtml = 'Like what you see? Visit the ' +\n",
              "            '<a target=\"_blank\" href=https://colab.research.google.com/notebooks/data_table.ipynb>data table notebook</a>'\n",
              "            + ' to learn more about interactive tables.';\n",
              "          element.innerHTML = '';\n",
              "          dataTable['output_type'] = 'display_data';\n",
              "          await google.colab.output.renderOutput(dataTable, element);\n",
              "          const docLink = document.createElement('div');\n",
              "          docLink.innerHTML = docLinkHtml;\n",
              "          element.appendChild(docLink);\n",
              "        }\n",
              "      </script>\n",
              "    </div>\n",
              "  </div>\n",
              "  "
            ]
          },
          "metadata": {},
          "execution_count": 27
        }
      ]
    },
    {
      "cell_type": "code",
      "source": [
        "Velocity_data = np.array(Velocity_data)[:,1:]"
      ],
      "metadata": {
        "id": "6J1fHpL0qAX2"
      },
      "execution_count": null,
      "outputs": []
    },
    {
      "cell_type": "code",
      "source": [
        "Velocity_data.shape"
      ],
      "metadata": {
        "colab": {
          "base_uri": "https://localhost:8080/"
        },
        "outputId": "0ac6cbba-9b89-4676-b55b-2fbaeba5d1e5",
        "id": "suP5R_lCqAX3"
      },
      "execution_count": null,
      "outputs": [
        {
          "output_type": "execute_result",
          "data": {
            "text/plain": [
              "(18, 42)"
            ]
          },
          "metadata": {},
          "execution_count": 29
        }
      ]
    },
    {
      "cell_type": "code",
      "source": [
        "Velocity_data = np.mean(Velocity_data,1)"
      ],
      "metadata": {
        "id": "E4oT_1EcqAX3"
      },
      "execution_count": null,
      "outputs": []
    },
    {
      "cell_type": "code",
      "source": [
        "Velocity_data"
      ],
      "metadata": {
        "colab": {
          "base_uri": "https://localhost:8080/"
        },
        "id": "Wz6mdeQkqKaR",
        "outputId": "7b935272-8921-4649-f432-a7c3d0542d85"
      },
      "execution_count": null,
      "outputs": [
        {
          "output_type": "execute_result",
          "data": {
            "text/plain": [
              "array([568.1809523809524, 2548.254761904762, 3035.85, 1963.8238095238094,\n",
              "       1262.995238095238, 841.45, 3093.195238095238, 2596.9238095238093,\n",
              "       2496.814285714286, 2285.497619047619, 1456.5714285714287,\n",
              "       2097.1785714285716, 1721.3547619047617, 4940.502380952382,\n",
              "       2672.9928571428572, 1861.2785714285717, 1964.4190476190477,\n",
              "       2555.6619047619047], dtype=object)"
            ]
          },
          "metadata": {},
          "execution_count": 31
        }
      ]
    },
    {
      "cell_type": "code",
      "source": [],
      "metadata": {
        "id": "X7mZSR3IqgHg"
      },
      "execution_count": null,
      "outputs": []
    },
    {
      "cell_type": "code",
      "source": [
        "X = Distance_data\n",
        "Y = Velocity_data"
      ],
      "metadata": {
        "id": "KFZ8J-XLqk33"
      },
      "execution_count": null,
      "outputs": []
    },
    {
      "cell_type": "markdown",
      "source": [
        "giving the x and y values axis names"
      ],
      "metadata": {
        "id": "sZV4yU2-_ZmU"
      }
    },
    {
      "cell_type": "code",
      "source": [
        "plt.plot(X,Y,'g.')"
      ],
      "metadata": {
        "colab": {
          "base_uri": "https://localhost:8080/",
          "height": 283
        },
        "outputId": "362a9a37-fc45-49e8-c82d-afab4f8ade1b",
        "id": "L7sJM9BIsO4L"
      },
      "execution_count": null,
      "outputs": [
        {
          "output_type": "execute_result",
          "data": {
            "text/plain": [
              "[<matplotlib.lines.Line2D at 0x7f9091bdd850>]"
            ]
          },
          "metadata": {},
          "execution_count": 33
        },
        {
          "output_type": "display_data",
          "data": {
            "text/plain": [
              "<Figure size 432x288 with 1 Axes>"
            ],
            "image/png": "[encoded data removed]"
          },
          "metadata": {
            "needs_background": "light"
          }
        }
      ]
    },
    {
      "cell_type": "code",
      "source": [
        "m_guess = 0\n",
        "b_guess = 0 "
      ],
      "metadata": {
        "id": "LoG37SWmsO4L"
      },
      "execution_count": null,
      "outputs": []
    },
    {
      "cell_type": "markdown",
      "source": [
        "$y=mx+b$"
      ],
      "metadata": {
        "id": "sypYT_aEsO4M"
      }
    },
    {
      "cell_type": "code",
      "source": [
        "m_guess * X + b_guess"
      ],
      "metadata": {
        "colab": {
          "base_uri": "https://localhost:8080/"
        },
        "outputId": "7c866362-0def-4200-bfe0-bbed436d0d4f",
        "id": "Um_1WgZusO4M"
      },
      "execution_count": null,
      "outputs": [
        {
          "output_type": "execute_result",
          "data": {
            "text/plain": [
              "array([0.0, 0.0, 0.0, 0.0, 0.0, 0.0, 0.0, 0.0, 0.0, 0.0, 0.0, 0.0, 0.0,\n",
              "       0.0, 0.0, 0.0, 0.0, 0.0], dtype=object)"
            ]
          },
          "metadata": {},
          "execution_count": 35
        }
      ]
    },
    {
      "cell_type": "code",
      "source": [
        "y_guess = m_guess * X + b_guess"
      ],
      "metadata": {
        "id": "vhppOg5xsO4M"
      },
      "execution_count": null,
      "outputs": []
    },
    {
      "cell_type": "code",
      "source": [
        "y_guess - Y"
      ],
      "metadata": {
        "outputId": "99147519-ca23-4f1d-c321-2a62f6decd8a",
        "colab": {
          "base_uri": "https://localhost:8080/"
        },
        "id": "FHyeLa31sO4M"
      },
      "execution_count": null,
      "outputs": [
        {
          "output_type": "execute_result",
          "data": {
            "text/plain": [
              "array([-568.1809523809524, -2548.254761904762, -3035.85,\n",
              "       -1963.8238095238094, -1262.995238095238, -841.45,\n",
              "       -3093.195238095238, -2596.9238095238093, -2496.814285714286,\n",
              "       -2285.497619047619, -1456.5714285714287, -2097.1785714285716,\n",
              "       -1721.3547619047617, -4940.502380952382, -2672.9928571428572,\n",
              "       -1861.2785714285717, -1964.4190476190477, -2555.6619047619047],\n",
              "      dtype=object)"
            ]
          },
          "metadata": {},
          "execution_count": 37
        }
      ]
    },
    {
      "cell_type": "code",
      "source": [
        "np.sum((y_guess - Y)**2)"
      ],
      "metadata": {
        "colab": {
          "base_uri": "https://localhost:8080/"
        },
        "outputId": "57cfb015-8743-4faa-e0fa-7688efea6fd2",
        "id": "NUnFAtYIsO4M"
      },
      "execution_count": null,
      "outputs": [
        {
          "output_type": "execute_result",
          "data": {
            "text/plain": [
              "104853050.1554025"
            ]
          },
          "metadata": {},
          "execution_count": 38
        }
      ]
    },
    {
      "cell_type": "code",
      "source": [
        "loss = np.sum((y_guess - Y)**2)"
      ],
      "metadata": {
        "id": "GshXbnr9sO4M"
      },
      "execution_count": null,
      "outputs": []
    },
    {
      "cell_type": "code",
      "source": [
        "best_loss_so_far = 1000000000000\n",
        "m_best = 0 \n",
        "b_best = 0 \n",
        "for m_guess in np.linspace(-100,100,100):\n",
        "    for b_guess in np.linspace(-100,100,100):\n",
        "        \n",
        "        y_guess = m_guess * X + b_guess\n",
        "\n",
        "        loss = np.sum((y_guess - Y)**2)\n",
        "\n",
        "        if loss < best_loss_so_far:\n",
        "            m_best = m_guess\n",
        "            b_best = b_guess\n",
        "            best_loss_so_far = loss\n",
        "\n",
        "print(\"Found best fit:\")\n",
        "print(m_best,b_best,loss)"
      ],
      "metadata": {
        "colab": {
          "base_uri": "https://localhost:8080/"
        },
        "outputId": "b99de4a1-c86c-4cc1-acd2-2d4ec2316776",
        "id": "sXXjZ4BfsO4N"
      },
      "execution_count": null,
      "outputs": [
        {
          "output_type": "stream",
          "name": "stdout",
          "text": [
            "Found best fit:\n",
            "69.69696969696972 100.0 27093792.089856267\n"
          ]
        }
      ]
    },
    {
      "cell_type": "code",
      "source": [
        "m_best"
      ],
      "metadata": {
        "colab": {
          "base_uri": "https://localhost:8080/"
        },
        "outputId": "fb80b0ec-19b5-4d1c-d719-d20ea87a2194",
        "id": "QTriEyEBsO4N"
      },
      "execution_count": null,
      "outputs": [
        {
          "output_type": "execute_result",
          "data": {
            "text/plain": [
              "69.69696969696972"
            ]
          },
          "metadata": {},
          "execution_count": 41
        }
      ]
    },
    {
      "cell_type": "code",
      "source": [
        "H = m_best"
      ],
      "metadata": {
        "id": "CQ-U9HyssO4N"
      },
      "execution_count": null,
      "outputs": []
    },
    {
      "cell_type": "markdown",
      "source": [
        "H equals m_best"
      ],
      "metadata": {
        "id": "myztsOmy_jGn"
      }
    },
    {
      "cell_type": "code",
      "source": [
        "1/H"
      ],
      "metadata": {
        "colab": {
          "base_uri": "https://localhost:8080/"
        },
        "outputId": "93c37d07-fa13-49bf-d1d6-5c69bdb31a03",
        "id": "Jk2hPhhgsO4N"
      },
      "execution_count": null,
      "outputs": [
        {
          "output_type": "execute_result",
          "data": {
            "text/plain": [
              "0.014347826086956518"
            ]
          },
          "metadata": {},
          "execution_count": 43
        }
      ]
    },
    {
      "cell_type": "markdown",
      "source": [
        "If the universe has been expanding since its beginning at a constant speed, the universe's age would simply be 1/Ho.\n",
        "Find the inverse of your value of Ho.\n",
        "Multiply the inverse by $3.09 \\times 10^{19}$ km/Mpc to cancel the distance units.\n",
        "Since you now have the age of the Universe in seconds, divide this number by the number of seconds in a year: $3.16 \\times 10^{7}$ sec/yr."
      ],
      "metadata": {
        "id": "Ryb3WZY8sO4N"
      }
    },
    {
      "cell_type": "markdown",
      "source": [
        "$3.09 \\times 10^{19}$ km/Mpc"
      ],
      "metadata": {
        "id": "C5xsbUq1sO4N"
      }
    },
    {
      "cell_type": "markdown",
      "source": [
        "$3.16 \\times 10^{7}$ sec/year"
      ],
      "metadata": {
        "id": "ldOhIG9OsO4O"
      }
    },
    {
      "cell_type": "code",
      "source": [
        "(1/H) * (3.09*10**19)"
      ],
      "metadata": {
        "colab": {
          "base_uri": "https://localhost:8080/"
        },
        "outputId": "f876593d-1ea1-4f39-9392-5658d99cb509",
        "id": "hF2ifN-csO4O"
      },
      "execution_count": null,
      "outputs": [
        {
          "output_type": "execute_result",
          "data": {
            "text/plain": [
              "4.433478260869564e+17"
            ]
          },
          "metadata": {},
          "execution_count": 44
        }
      ]
    },
    {
      "cell_type": "markdown",
      "source": [
        "** means square root"
      ],
      "metadata": {
        "id": "rz35i5X-_p0-"
      }
    },
    {
      "cell_type": "code",
      "source": [
        "(1/H) * (3.09*10**19)  / (3.16*10**7)"
      ],
      "metadata": {
        "colab": {
          "base_uri": "https://localhost:8080/"
        },
        "outputId": "023f1fee-069a-4534-aac2-10d3973144d6",
        "id": "O5y2fwJlsO4O"
      },
      "execution_count": null,
      "outputs": [
        {
          "output_type": "execute_result",
          "data": {
            "text/plain": [
              "14029994496.422672"
            ]
          },
          "metadata": {},
          "execution_count": 45
        }
      ]
    },
    {
      "cell_type": "code",
      "source": [
        " (1/H) * (3.09*10**19)  / (3.16*10**7) / (1000000000)"
      ],
      "metadata": {
        "colab": {
          "base_uri": "https://localhost:8080/"
        },
        "outputId": "ea86c0ab-1721-422c-a96d-85c80b6c65ad",
        "id": "aYVTTdfisO4O"
      },
      "execution_count": null,
      "outputs": [
        {
          "output_type": "execute_result",
          "data": {
            "text/plain": [
              "14.029994496422672"
            ]
          },
          "metadata": {},
          "execution_count": 46
        }
      ]
    }
  ]
}