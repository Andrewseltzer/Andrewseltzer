{
  "nbformat": 4,
  "nbformat_minor": 0,
  "metadata": {
    "colab": {
      "provenance": [],
      "collapsed_sections": [],
      "include_colab_link": true
    },
    "kernelspec": {
      "name": "python3",
      "display_name": "Python 3"
    },
    "language_info": {
      "name": "python"
    }
  },
  "cells": [
    {
      "cell_type": "markdown",
      "metadata": {
        "id": "view-in-github",
        "colab_type": "text"
      },
      "source": [
        "<a href=\"https://colab.research.google.com/github/Andrewseltzer/StatisticsHomework/blob/main/Andrew_Seltzer_Midterm.ipynb\" target=\"_parent\"><img src=\"https://colab.research.google.com/assets/colab-badge.svg\" alt=\"Open In Colab\"/></a>"
      ]
    },
    {
      "cell_type": "markdown",
      "source": [
        "# STA 2023 Midterm Project\n",
        "\n",
        "Directions:\n",
        "\n",
        "*   Use any and all resources available to you\n",
        "*   Comment and explain the code\n",
        "*   Answer the questions to the best of your abilities\n",
        "*   There are no points for pain: ask for help\n",
        "\n",
        "Save this notebook to your GitHub and submit the link."
      ],
      "metadata": {
        "id": "WyqM99KnfwFM"
      }
    },
    {
      "cell_type": "code",
      "source": [
        "import numpy as np\n",
        "import matplotlib.pyplot as plt"
      ],
      "metadata": {
        "id": "ZE7xzRUigBYy"
      },
      "execution_count": null,
      "outputs": []
    },
    {
      "cell_type": "markdown",
      "source": [
        "pyplot is matplotlib's plotting framework which takes the specific import line merely imports the module \"matplotlib.pyplot\" and binds that to the name \"plt\"."
      ],
      "metadata": {
        "id": "kQKJstZSOxuO"
      }
    },
    {
      "cell_type": "markdown",
      "source": [
        "## Part 1: Getting your data\n",
        "\n",
        "Create a google form to input your data.\n",
        "Follow the same method as [Lab 5](https://colab.research.google.com/drive/1zYvyhrz2wVnJXlZqj_PpxOxplfS3LN9Y?usp=sharing)."
      ],
      "metadata": {
        "id": "tkn5UxLMg4GS"
      }
    },
    {
      "cell_type": "code",
      "source": [
        "import pandas as pd\n",
        "def get_database(url): # This function loads the google spreadsheet\n",
        "    url_head = \"https://docs.google.com/spreadsheets/d/\"\n",
        "    url_foot = \"/gviz/tq?tqx=out:csv&sheet=\"\n",
        "    url_body = url.split('/')[5]\n",
        "    sheet_name = \"1\"\n",
        "    url_csv = url_head + url_body + url_foot + sheet_name\n",
        "    df = pd.read_csv(url_csv, sep=',', skiprows=0)\n",
        "    return df"
      ],
      "metadata": {
        "id": "B0XQVmQIgdrp"
      },
      "execution_count": null,
      "outputs": []
    },
    {
      "cell_type": "markdown",
      "source": [
        "#plate diameter=4 Circumrance = 25.12\n",
        "#placemat diameter = 7.5 circumrance = 47.1\n",
        "#Bowl diameter = 3.5 circumrance = 21.98\n"
      ],
      "metadata": {
        "id": "_SjHEsd4SJLs"
      }
    },
    {
      "cell_type": "markdown",
      "source": [
        "Put your form url here:\n",
        "https://docs.google.com/forms/d/e/1FAIpQLScfpd7CbmYVRFrUCNFqs_rYa3zrPhd6KSs4gc5D8i43xjk7EQ/viewform?usp=sf_link"
      ],
      "metadata": {
        "id": "e3G1Q_8rjlLI"
      }
    },
    {
      "cell_type": "code",
      "source": [
        "url = 'https://docs.google.com/spreadsheets/d/1g7T3Ady_22a7FJ-hHqg156_bXm87ld9QUl5iJATh5SA/edit?usp=sharing'"
      ],
      "metadata": {
        "id": "PfAztwghjql2"
      },
      "execution_count": null,
      "outputs": []
    },
    {
      "cell_type": "code",
      "source": [
        "data = get_database(url)"
      ],
      "metadata": {
        "id": "_SA4UhnqjyhY"
      },
      "execution_count": null,
      "outputs": []
    },
    {
      "cell_type": "code",
      "source": [
        "data.keys()"
      ],
      "metadata": {
        "id": "wG-6zwRCop6x",
        "outputId": "3317ef75-95e0-4abf-c542-df143e068bff",
        "colab": {
          "base_uri": "https://localhost:8080/"
        }
      },
      "execution_count": null,
      "outputs": [
        {
          "output_type": "execute_result",
          "data": {
            "text/plain": [
              "Index(['Timestamp', 'Object ', 'Diameter', 'Circumference '], dtype='object')"
            ]
          },
          "metadata": {},
          "execution_count": 20
        }
      ]
    },
    {
      "cell_type": "code",
      "source": [
        "data[\"Circumference \"]"
      ],
      "metadata": {
        "id": "DGL5_DXjnQ9_",
        "outputId": "de96a0ce-70b2-4a17-dcfc-69574134aa31",
        "colab": {
          "base_uri": "https://localhost:8080/"
        }
      },
      "execution_count": null,
      "outputs": [
        {
          "output_type": "execute_result",
          "data": {
            "text/plain": [
              "0    25.12\n",
              "1    47.10\n",
              "2    21.98\n",
              "Name: Circumference , dtype: float64"
            ]
          },
          "metadata": {},
          "execution_count": 14
        }
      ]
    },
    {
      "cell_type": "code",
      "source": [
        "data[\"Diameter\"]"
      ],
      "metadata": {
        "id": "nrWM30TDnlzP",
        "outputId": "662930ff-5429-4467-a736-8f3883e4c91a",
        "colab": {
          "base_uri": "https://localhost:8080/"
        }
      },
      "execution_count": null,
      "outputs": [
        {
          "output_type": "execute_result",
          "data": {
            "text/plain": [
              "0    4.0\n",
              "1    7.5\n",
              "2    3.5\n",
              "Name: Diameter, dtype: float64"
            ]
          },
          "metadata": {},
          "execution_count": 21
        }
      ]
    },
    {
      "cell_type": "code",
      "source": [
        "Circumferences = data['Circumference ']\n",
        "Diameters = data['Diameter']"
      ],
      "metadata": {
        "id": "HwjOm5sgj2JA"
      },
      "execution_count": null,
      "outputs": []
    },
    {
      "cell_type": "markdown",
      "source": [
        "Plot your data points"
      ],
      "metadata": {
        "id": "INpIcEh1mUKn"
      }
    },
    {
      "cell_type": "code",
      "source": [
        "plt.title(\"Circle Diameter vs Circumference\")\n",
        "\n",
        "plt.xlabel('Circumferences')\n",
        "plt.ylabel('Diameters')\n",
        "\n",
        "plt.plot(Circumferences,Diameters,'.');"
      ],
      "metadata": {
        "id": "uoX4t7tIj8id",
        "colab": {
          "base_uri": "https://localhost:8080/",
          "height": 295
        },
        "outputId": "b3dd1c9b-aee0-4689-d7ad-5ab9cc10a7d5"
      },
      "execution_count": null,
      "outputs": [
        {
          "output_type": "display_data",
          "data": {
            "text/plain": [
              "<Figure size 432x288 with 1 Axes>"
            ],
            "image/png": "[encoded data removed]"
          },
          "metadata": {
            "needs_background": "light"
          }
        }
      ]
    },
    {
      "cell_type": "code",
      "source": [],
      "metadata": {
        "id": "BkqUPcWErFsY"
      },
      "execution_count": null,
      "outputs": []
    },
    {
      "cell_type": "code",
      "source": [
        "x = Circumferences"
      ],
      "metadata": {
        "id": "CygZLNigqQ6j"
      },
      "execution_count": null,
      "outputs": []
    },
    {
      "cell_type": "code",
      "source": [
        "y = Diameters"
      ],
      "metadata": {
        "id": "oKiCHL26qY6L"
      },
      "execution_count": null,
      "outputs": []
    },
    {
      "cell_type": "markdown",
      "source": [
        "## Part 2: Linear Fit\n",
        "\n",
        "Follow the steps in the [Linear Fit notebook]() to run a linear fit on your data."
      ],
      "metadata": {
        "id": "IhT_tn8ym8N8"
      }
    },
    {
      "cell_type": "code",
      "source": [
        "best_loss = 100000000\n",
        "\n",
        "best_m = None\n",
        "best_b = None\n",
        "\n",
        "for m_guess in np.linspace(0,10):\n",
        "    for b_guess in np.linspace(-10,10):\n",
        "\n",
        "        y_guess = m_guess * Diameters + b_guess\n",
        "\n",
        "        loss = np.sum((y_guess - Circumferences)**2)\n",
        "\n",
        "        if loss < best_loss:\n",
        "\n",
        "            best_m = m_guess\n",
        "            best_b = b_guess\n",
        "            best_loss = loss\n"
      ],
      "metadata": {
        "id": "KZn5uJ31nk4X"
      },
      "execution_count": 45,
      "outputs": []
    },
    {
      "cell_type": "code",
      "source": [
        "best_loss"
      ],
      "metadata": {
        "id": "ORPY78bvu78D",
        "outputId": "9c0082f7-3e66-4307-a47c-2631270856fd",
        "colab": {
          "base_uri": "https://localhost:8080/"
        }
      },
      "execution_count": 46,
      "outputs": [
        {
          "output_type": "execute_result",
          "data": {
            "text/plain": [
              "0.02301740941274435"
            ]
          },
          "metadata": {},
          "execution_count": 46
        }
      ]
    },
    {
      "cell_type": "markdown",
      "source": [
        "Plot the line of best fit:\n",
        "\n",
        "Use blue dots for the collected data and a red line for the estimate."
      ],
      "metadata": {
        "id": "I0KofkS9p7hu"
      }
    },
    {
      "cell_type": "code",
      "source": [
        "plt.title('Linear Fit of Circles')\n",
        "\n",
        "plt.xlabel('Diameter')\n",
        "plt.ylabel('Circumference')\n",
        "\n",
        "# Plot the collected data\n",
        "plt.plot(Diameters,Circumferences,'b.', label='Observations')\n",
        "\n",
        "y_estimate = best_m * Diameters + best_b\n",
        "\n",
        "# Plot the line of best fit\n",
        "plt.plot(Diameters,y_estimate,'r', label=f'Estimate: $y = {best_m:.2f} x + {best_b:.2f}$')\n",
        "\n",
        "plt.legend();"
      ],
      "metadata": {
        "id": "xe8G9X7DqACm",
        "outputId": "9d6eaf74-994f-423f-a53d-eeeb53a3347a",
        "colab": {
          "base_uri": "https://localhost:8080/",
          "height": 295
        }
      },
      "execution_count": 51,
      "outputs": [
        {
          "output_type": "display_data",
          "data": {
            "text/plain": [
              "<Figure size 432x288 with 1 Axes>"
            ],
            "image/png": "[encoded data removed]"
          },
          "metadata": {
            "needs_background": "light"
          }
        }
      ]
    },
    {
      "cell_type": "markdown",
      "source": [
        "The estimated relationship is:\n",
        "\n",
        "$C = ? D + ?$"
      ],
      "metadata": {
        "id": "4zCAPG3upXN9"
      }
    },
    {
      "cell_type": "markdown",
      "source": [
        "C is the circumference and D is the diameter "
      ],
      "metadata": {
        "id": "DuIp18z-wQMo"
      }
    },
    {
      "cell_type": "markdown",
      "source": [
        "## Part 3: Interpretation\n",
        "\n",
        "Answer the questions in text cells"
      ],
      "metadata": {
        "id": "7FBlUtdwt_hd"
      }
    },
    {
      "cell_type": "markdown",
      "source": [
        "#### Question 1:\n",
        "\n",
        "What do $m$ and $b$ represent in these equations?"
      ],
      "metadata": {
        "id": "9xIvwJhOuGDh"
      }
    },
    {
      "cell_type": "markdown",
      "source": [],
      "metadata": {
        "id": "OC_Ja53Yugfn"
      }
    },
    {
      "cell_type": "markdown",
      "source": [
        "#### Question 2:\n",
        "\n",
        "Guess what the correct values $m$ and $b$ should be."
      ],
      "metadata": {
        "id": "_7xl4z8kubLo"
      }
    },
    {
      "cell_type": "markdown",
      "source": [],
      "metadata": {
        "id": "Te_52DvOuhZ-"
      }
    },
    {
      "cell_type": "markdown",
      "source": [
        "#### Question 3:\n",
        "\n",
        "Does it make sense to include $b$ in the parameters?"
      ],
      "metadata": {
        "id": "2yrRt2wMubSC"
      }
    },
    {
      "cell_type": "markdown",
      "source": [],
      "metadata": {
        "id": "F0gbHr8_uiWi"
      }
    },
    {
      "cell_type": "markdown",
      "source": [
        "## Bonus:\n",
        "\n",
        "These problems are extra credit. You may use any resources, but be sure to explain your code."
      ],
      "metadata": {
        "id": "_3LN79rPujMz"
      }
    },
    {
      "cell_type": "markdown",
      "source": [
        "#### Bonus 1: Plot the squared errors from your line of best fit"
      ],
      "metadata": {
        "id": "wk0Ox4nqvFcT"
      }
    },
    {
      "cell_type": "code",
      "source": [
        "plt.title(\"Fit Errors\")\n",
        "\n",
        "plt.xlabel(\"Diameter\")\n",
        "plt.ylabel(\"Squared Error\")\n",
        "\n",
        "squared_error = ...\n",
        "\n",
        "plt.plot(..., 'b.', label = \"Errors\")\n",
        "\n",
        "plt.legend();"
      ],
      "metadata": {
        "id": "O8IQn-B_vXAN"
      },
      "execution_count": null,
      "outputs": []
    },
    {
      "cell_type": "markdown",
      "source": [
        "#### Bonus 2: Plot the errors as a histogram"
      ],
      "metadata": {
        "id": "ojVobjtBwK9o"
      }
    },
    {
      "cell_type": "code",
      "source": [
        "plt.title(\"Errors\")\n",
        "\n",
        "..."
      ],
      "metadata": {
        "id": "WJkR3s9kwujU"
      },
      "execution_count": null,
      "outputs": []
    },
    {
      "cell_type": "markdown",
      "source": [
        "What distribution does this histogram look like?"
      ],
      "metadata": {
        "id": "k9nm1qADyFiA"
      }
    },
    {
      "cell_type": "markdown",
      "source": [],
      "metadata": {
        "id": "r2Vo3k0xyKiK"
      }
    },
    {
      "cell_type": "markdown",
      "source": [
        "#### Bonus 3: Find the circle with the largest error. \n",
        "Hint: use np.max"
      ],
      "metadata": {
        "id": "qfDuImTvrF5V"
      }
    },
    {
      "cell_type": "code",
      "source": [
        "largest_error = ..."
      ],
      "metadata": {
        "id": "k7ShpKK6vWrH"
      },
      "execution_count": null,
      "outputs": []
    },
    {
      "cell_type": "markdown",
      "source": [
        "#### Bonus 4: Remove the circles with the 2 largest errors and run the fit again.\n"
      ],
      "metadata": {
        "id": "oQCq4D4uwZ7I"
      }
    },
    {
      "cell_type": "code",
      "source": [
        "..."
      ],
      "metadata": {
        "id": "EjddA54wwKPY"
      },
      "execution_count": null,
      "outputs": []
    },
    {
      "cell_type": "markdown",
      "source": [
        "What is the difference in your error?"
      ],
      "metadata": {
        "id": "V2jyayR-yOvF"
      }
    },
    {
      "cell_type": "markdown",
      "source": [],
      "metadata": {
        "id": "F1ZCdkHyyY9x"
      }
    },
    {
      "cell_type": "markdown",
      "source": [
        "#### Bonus 5: Find and explain a better method of fitting this data"
      ],
      "metadata": {
        "id": "1y-okVy_w22o"
      }
    },
    {
      "cell_type": "code",
      "source": [],
      "metadata": {
        "id": "sfOiajQCxH_7"
      },
      "execution_count": null,
      "outputs": []
    }
  ]
}